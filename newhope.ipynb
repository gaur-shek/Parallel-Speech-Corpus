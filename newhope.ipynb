{
  "nbformat": 4,
  "nbformat_minor": 0,
  "metadata": {
    "colab": {
      "name": "newhope.ipynb",
      "provenance": [],
      "collapsed_sections": [],
      "mount_file_id": "1AcZSgxrs9otNVyR3SAuf4tjzCm-vH08X",
      "authorship_tag": "ABX9TyOZhlbVWzg2GcGN6vRsvFFY",
      "include_colab_link": true
    },
    "kernelspec": {
      "name": "python3",
      "display_name": "Python 3"
    },
    "language_info": {
      "name": "python"
    }
  },
  "cells": [
    {
      "cell_type": "markdown",
      "metadata": {
        "id": "view-in-github",
        "colab_type": "text"
      },
      "source": [
        "<a href=\"https://colab.research.google.com/github/gaur-shek/Parallel-Speech-Corpus/blob/main/newhope.ipynb\" target=\"_parent\"><img src=\"https://colab.research.google.com/assets/colab-badge.svg\" alt=\"Open In Colab\"/></a>"
      ]
    },
    {
      "cell_type": "code",
      "execution_count": 1,
      "metadata": {
        "id": "bIRq6PS62sz8"
      },
      "outputs": [],
      "source": [
        "from spacy.lang.hi import Hindi \n",
        "nlp = Hindi()"
      ]
    },
    {
      "cell_type": "code",
      "source": [
        "import requests \n",
        "url = \"https://dl.fbaipublicfiles.com/fasttext/vectors-crawl/cc.hi.300.vec.gz\"\n",
        "r = requests.get(url, allow_redirects=True)\n",
        "fpath = url.split(\"/\")[-1]\n",
        "with open(fpath, \"wb\") as fw:\n",
        "  fw.write(r.content)"
      ],
      "metadata": {
        "id": "6rO3OYYp83Ty"
      },
      "execution_count": 2,
      "outputs": []
    },
    {
      "cell_type": "code",
      "source": [
        "!python -m spacy init-model hi ./hi_vectors_wiki_lg --vectors-loc cc.hi.300.vec.gz"
      ],
      "metadata": {
        "colab": {
          "base_uri": "https://localhost:8080/"
        },
        "id": "q_zkslfM95q5",
        "outputId": "6a5942bc-f3b8-4f97-aa3a-21587a4fd476"
      },
      "execution_count": 3,
      "outputs": [
        {
          "output_type": "stream",
          "name": "stdout",
          "text": [
            "\r⠙ Creating model...\r\u001b[2K\u001b[38;5;2m✔ Successfully created model\u001b[0m\n",
            "⠙ Reading vectors from cc.hi.300.vec.gztcmalloc: large alloc 2251988992 bytes == 0x33f0000 @  0x7fb9796cb001 0x7fb97701a1af 0x7fb977070c23 0x7fb977071a87 0x7fb977113823 0x5936cc 0x548c51 0x5127f1 0x593dd7 0x5118f8 0x549576 0x593fce 0x5118f8 0x549576 0x4bcb19 0x5134a6 0x549e0e 0x593fce 0x511e2c 0x549576 0x593fce 0x548ae9 0x51566f 0x549576 0x604173 0x62a809 0x59358d 0x515244 0x549576 0x593fce 0x5118f8\n",
            "1876653it [02:22, 13189.95it/s]\n",
            "\u001b[2K\u001b[38;5;2m✔ Loaded vectors from cc.hi.300.vec.gz\u001b[0m\n",
            "\u001b[38;5;2m✔ Sucessfully compiled vocab\u001b[0m\n",
            "1876653 entries, 1876653 vectors\n"
          ]
        }
      ]
    },
    {
      "cell_type": "code",
      "source": [
        "import spacy\n",
        "nlp_hi = spacy.load(\"./hi_vectors_wiki_lg\")"
      ],
      "metadata": {
        "id": "eCvj0V_F_Jma"
      },
      "execution_count": 4,
      "outputs": []
    },
    {
      "cell_type": "code",
      "source": [
        "!git clone https://github.com/gaur-shek/Parallel-Speech-Corpus.git"
      ],
      "metadata": {
        "colab": {
          "base_uri": "https://localhost:8080/"
        },
        "id": "-3JE9h_HA46_",
        "outputId": "6865d10f-4999-478d-9a73-17d102bc3f36"
      },
      "execution_count": 5,
      "outputs": [
        {
          "output_type": "stream",
          "name": "stdout",
          "text": [
            "Cloning into 'Parallel-Speech-Corpus'...\n",
            "remote: Enumerating objects: 112, done.\u001b[K\n",
            "remote: Counting objects: 100% (31/31), done.\u001b[K\n",
            "remote: Compressing objects: 100% (31/31), done.\u001b[K\n",
            "remote: Total 112 (delta 16), reused 0 (delta 0), pack-reused 81\u001b[K\n",
            "Receiving objects: 100% (112/112), 35.58 KiB | 3.95 MiB/s, done.\n",
            "Resolving deltas: 100% (55/55), done.\n"
          ]
        }
      ]
    },
    {
      "cell_type": "code",
      "source": [
        "!pip install pydub\n",
        "!pip install inaSpeechSegmenter\n",
        "!pip install image-similarity-measures\n",
        "!pip install SpeechRecognition\n",
        "!pip install googletrans==4.0.0-rc1 "
      ],
      "metadata": {
        "colab": {
          "base_uri": "https://localhost:8080/"
        },
        "id": "Em8vXtCfBIC0",
        "outputId": "3f451c2a-a89f-44d9-ee25-30ed0a553d0e"
      },
      "execution_count": 6,
      "outputs": [
        {
          "output_type": "stream",
          "name": "stdout",
          "text": [
            "Looking in indexes: https://pypi.org/simple, https://us-python.pkg.dev/colab-wheels/public/simple/\n",
            "Collecting pydub\n",
            "  Downloading pydub-0.25.1-py2.py3-none-any.whl (32 kB)\n",
            "Installing collected packages: pydub\n",
            "Successfully installed pydub-0.25.1\n",
            "Looking in indexes: https://pypi.org/simple, https://us-python.pkg.dev/colab-wheels/public/simple/\n",
            "Collecting inaSpeechSegmenter\n",
            "  Downloading inaSpeechSegmenter-0.7.3-py3-none-any.whl (26 kB)\n",
            "Collecting pyannote.core\n",
            "  Downloading pyannote.core-4.4-py3-none-any.whl (65 kB)\n",
            "\u001b[K     |████████████████████████████████| 65 kB 2.7 MB/s \n",
            "\u001b[?25hCollecting pyannote.parser\n",
            "  Downloading pyannote.parser-0.8-py3-none-any.whl (24 kB)\n",
            "Collecting Pyro4\n",
            "  Downloading Pyro4-4.82-py2.py3-none-any.whl (89 kB)\n",
            "\u001b[K     |████████████████████████████████| 89 kB 8.6 MB/s \n",
            "\u001b[?25hRequirement already satisfied: pandas in /usr/local/lib/python3.7/dist-packages (from inaSpeechSegmenter) (1.3.5)\n",
            "Requirement already satisfied: numpy in /usr/local/lib/python3.7/dist-packages (from inaSpeechSegmenter) (1.21.6)\n",
            "Requirement already satisfied: scikit-image in /usr/local/lib/python3.7/dist-packages (from inaSpeechSegmenter) (0.18.3)\n",
            "Collecting pyannote.algorithms\n",
            "  Downloading pyannote.algorithms-0.8-py3-none-any.whl (78 kB)\n",
            "\u001b[K     |████████████████████████████████| 78 kB 7.1 MB/s \n",
            "\u001b[?25hRequirement already satisfied: matplotlib in /usr/local/lib/python3.7/dist-packages (from inaSpeechSegmenter) (3.2.2)\n",
            "Collecting pytextgrid\n",
            "  Downloading pytextgrid-0.1.4-py3-none-any.whl (9.1 kB)\n",
            "Requirement already satisfied: soundfile in /usr/local/lib/python3.7/dist-packages (from inaSpeechSegmenter) (0.10.3.post1)\n",
            "Requirement already satisfied: tensorflow in /usr/local/lib/python3.7/dist-packages (from inaSpeechSegmenter) (2.8.0+zzzcolab20220506162203)\n",
            "Requirement already satisfied: python-dateutil>=2.1 in /usr/local/lib/python3.7/dist-packages (from matplotlib->inaSpeechSegmenter) (2.8.2)\n",
            "Requirement already satisfied: cycler>=0.10 in /usr/local/lib/python3.7/dist-packages (from matplotlib->inaSpeechSegmenter) (0.11.0)\n",
            "Requirement already satisfied: pyparsing!=2.0.4,!=2.1.2,!=2.1.6,>=2.0.1 in /usr/local/lib/python3.7/dist-packages (from matplotlib->inaSpeechSegmenter) (3.0.9)\n",
            "Requirement already satisfied: kiwisolver>=1.0.1 in /usr/local/lib/python3.7/dist-packages (from matplotlib->inaSpeechSegmenter) (1.4.2)\n",
            "Requirement already satisfied: typing-extensions in /usr/local/lib/python3.7/dist-packages (from kiwisolver>=1.0.1->matplotlib->inaSpeechSegmenter) (4.2.0)\n",
            "Requirement already satisfied: six>=1.5 in /usr/local/lib/python3.7/dist-packages (from python-dateutil>=2.1->matplotlib->inaSpeechSegmenter) (1.15.0)\n",
            "Requirement already satisfied: pytz>=2017.3 in /usr/local/lib/python3.7/dist-packages (from pandas->inaSpeechSegmenter) (2022.1)\n",
            "Requirement already satisfied: scipy>=0.17.0 in /usr/local/lib/python3.7/dist-packages (from pyannote.algorithms->inaSpeechSegmenter) (1.4.1)\n",
            "Requirement already satisfied: xarray>=0.8.2 in /usr/local/lib/python3.7/dist-packages (from pyannote.algorithms->inaSpeechSegmenter) (0.20.2)\n",
            "Requirement already satisfied: joblib>=0.9.4 in /usr/local/lib/python3.7/dist-packages (from pyannote.algorithms->inaSpeechSegmenter) (1.1.0)\n",
            "Collecting sortedcollections>=1.0.1\n",
            "  Downloading sortedcollections-2.1.0-py3-none-any.whl (9.5 kB)\n",
            "Requirement already satisfied: networkx>=2.1 in /usr/local/lib/python3.7/dist-packages (from pyannote.algorithms->inaSpeechSegmenter) (2.6.3)\n",
            "Requirement already satisfied: docopt>=0.6.2 in /usr/local/lib/python3.7/dist-packages (from pyannote.algorithms->inaSpeechSegmenter) (0.6.2)\n",
            "Requirement already satisfied: scikit-learn>=0.17 in /usr/local/lib/python3.7/dist-packages (from pyannote.algorithms->inaSpeechSegmenter) (1.0.2)\n",
            "Collecting munkres>=1.0.7\n",
            "  Downloading munkres-1.1.4-py2.py3-none-any.whl (7.0 kB)\n",
            "Collecting simplejson>=3.8.1\n",
            "  Downloading simplejson-3.17.6-cp37-cp37m-manylinux_2_5_x86_64.manylinux1_x86_64.manylinux_2_12_x86_64.manylinux2010_x86_64.whl (130 kB)\n",
            "\u001b[K     |████████████████████████████████| 130 kB 54.6 MB/s \n",
            "\u001b[?25hRequirement already satisfied: sortedcontainers>=2.0.4 in /usr/local/lib/python3.7/dist-packages (from pyannote.core->inaSpeechSegmenter) (2.4.0)\n",
            "Requirement already satisfied: threadpoolctl>=2.0.0 in /usr/local/lib/python3.7/dist-packages (from scikit-learn>=0.17->pyannote.algorithms->inaSpeechSegmenter) (3.1.0)\n",
            "Requirement already satisfied: importlib-metadata in /usr/local/lib/python3.7/dist-packages (from xarray>=0.8.2->pyannote.algorithms->inaSpeechSegmenter) (4.11.3)\n",
            "Requirement already satisfied: zipp>=0.5 in /usr/local/lib/python3.7/dist-packages (from importlib-metadata->xarray>=0.8.2->pyannote.algorithms->inaSpeechSegmenter) (3.8.0)\n",
            "Collecting serpent>=1.27\n",
            "  Downloading serpent-1.40-py3-none-any.whl (9.6 kB)\n",
            "Requirement already satisfied: imageio>=2.3.0 in /usr/local/lib/python3.7/dist-packages (from scikit-image->inaSpeechSegmenter) (2.4.1)\n",
            "Requirement already satisfied: PyWavelets>=1.1.1 in /usr/local/lib/python3.7/dist-packages (from scikit-image->inaSpeechSegmenter) (1.3.0)\n",
            "Requirement already satisfied: tifffile>=2019.7.26 in /usr/local/lib/python3.7/dist-packages (from scikit-image->inaSpeechSegmenter) (2021.11.2)\n",
            "Requirement already satisfied: pillow!=7.1.0,!=7.1.1,>=4.3.0 in /usr/local/lib/python3.7/dist-packages (from scikit-image->inaSpeechSegmenter) (7.1.2)\n",
            "Requirement already satisfied: cffi>=1.0 in /usr/local/lib/python3.7/dist-packages (from soundfile->inaSpeechSegmenter) (1.15.0)\n",
            "Requirement already satisfied: pycparser in /usr/local/lib/python3.7/dist-packages (from cffi>=1.0->soundfile->inaSpeechSegmenter) (2.21)\n",
            "Requirement already satisfied: keras-preprocessing>=1.1.1 in /usr/local/lib/python3.7/dist-packages (from tensorflow->inaSpeechSegmenter) (1.1.2)\n",
            "Requirement already satisfied: grpcio<2.0,>=1.24.3 in /usr/local/lib/python3.7/dist-packages (from tensorflow->inaSpeechSegmenter) (1.46.1)\n",
            "Requirement already satisfied: astunparse>=1.6.0 in /usr/local/lib/python3.7/dist-packages (from tensorflow->inaSpeechSegmenter) (1.6.3)\n",
            "Requirement already satisfied: tensorboard<2.9,>=2.8 in /usr/local/lib/python3.7/dist-packages (from tensorflow->inaSpeechSegmenter) (2.8.0)\n",
            "Requirement already satisfied: h5py>=2.9.0 in /usr/local/lib/python3.7/dist-packages (from tensorflow->inaSpeechSegmenter) (3.1.0)\n",
            "Requirement already satisfied: wrapt>=1.11.0 in /usr/local/lib/python3.7/dist-packages (from tensorflow->inaSpeechSegmenter) (1.14.1)\n",
            "Requirement already satisfied: keras<2.9,>=2.8.0rc0 in /usr/local/lib/python3.7/dist-packages (from tensorflow->inaSpeechSegmenter) (2.8.0)\n",
            "Requirement already satisfied: opt-einsum>=2.3.2 in /usr/local/lib/python3.7/dist-packages (from tensorflow->inaSpeechSegmenter) (3.3.0)\n",
            "Requirement already satisfied: termcolor>=1.1.0 in /usr/local/lib/python3.7/dist-packages (from tensorflow->inaSpeechSegmenter) (1.1.0)\n",
            "Requirement already satisfied: tensorflow-io-gcs-filesystem>=0.23.1 in /usr/local/lib/python3.7/dist-packages (from tensorflow->inaSpeechSegmenter) (0.26.0)\n",
            "Requirement already satisfied: libclang>=9.0.1 in /usr/local/lib/python3.7/dist-packages (from tensorflow->inaSpeechSegmenter) (14.0.1)\n",
            "Requirement already satisfied: flatbuffers>=1.12 in /usr/local/lib/python3.7/dist-packages (from tensorflow->inaSpeechSegmenter) (2.0)\n",
            "Requirement already satisfied: setuptools in /usr/local/lib/python3.7/dist-packages (from tensorflow->inaSpeechSegmenter) (57.4.0)\n",
            "Requirement already satisfied: absl-py>=0.4.0 in /usr/local/lib/python3.7/dist-packages (from tensorflow->inaSpeechSegmenter) (1.0.0)\n",
            "Requirement already satisfied: protobuf>=3.9.2 in /usr/local/lib/python3.7/dist-packages (from tensorflow->inaSpeechSegmenter) (3.17.3)\n",
            "Collecting tf-estimator-nightly==2.8.0.dev2021122109\n",
            "  Downloading tf_estimator_nightly-2.8.0.dev2021122109-py2.py3-none-any.whl (462 kB)\n",
            "\u001b[K     |████████████████████████████████| 462 kB 54.0 MB/s \n",
            "\u001b[?25hRequirement already satisfied: gast>=0.2.1 in /usr/local/lib/python3.7/dist-packages (from tensorflow->inaSpeechSegmenter) (0.5.3)\n",
            "Requirement already satisfied: google-pasta>=0.1.1 in /usr/local/lib/python3.7/dist-packages (from tensorflow->inaSpeechSegmenter) (0.2.0)\n",
            "Requirement already satisfied: wheel<1.0,>=0.23.0 in /usr/local/lib/python3.7/dist-packages (from astunparse>=1.6.0->tensorflow->inaSpeechSegmenter) (0.37.1)\n",
            "Requirement already satisfied: cached-property in /usr/local/lib/python3.7/dist-packages (from h5py>=2.9.0->tensorflow->inaSpeechSegmenter) (1.5.2)\n",
            "Requirement already satisfied: markdown>=2.6.8 in /usr/local/lib/python3.7/dist-packages (from tensorboard<2.9,>=2.8->tensorflow->inaSpeechSegmenter) (3.3.7)\n",
            "Requirement already satisfied: google-auth-oauthlib<0.5,>=0.4.1 in /usr/local/lib/python3.7/dist-packages (from tensorboard<2.9,>=2.8->tensorflow->inaSpeechSegmenter) (0.4.6)\n",
            "Requirement already satisfied: tensorboard-data-server<0.7.0,>=0.6.0 in /usr/local/lib/python3.7/dist-packages (from tensorboard<2.9,>=2.8->tensorflow->inaSpeechSegmenter) (0.6.1)\n",
            "Requirement already satisfied: werkzeug>=0.11.15 in /usr/local/lib/python3.7/dist-packages (from tensorboard<2.9,>=2.8->tensorflow->inaSpeechSegmenter) (1.0.1)\n",
            "Requirement already satisfied: tensorboard-plugin-wit>=1.6.0 in /usr/local/lib/python3.7/dist-packages (from tensorboard<2.9,>=2.8->tensorflow->inaSpeechSegmenter) (1.8.1)\n",
            "Requirement already satisfied: google-auth<3,>=1.6.3 in /usr/local/lib/python3.7/dist-packages (from tensorboard<2.9,>=2.8->tensorflow->inaSpeechSegmenter) (1.35.0)\n",
            "Requirement already satisfied: requests<3,>=2.21.0 in /usr/local/lib/python3.7/dist-packages (from tensorboard<2.9,>=2.8->tensorflow->inaSpeechSegmenter) (2.23.0)\n",
            "Requirement already satisfied: pyasn1-modules>=0.2.1 in /usr/local/lib/python3.7/dist-packages (from google-auth<3,>=1.6.3->tensorboard<2.9,>=2.8->tensorflow->inaSpeechSegmenter) (0.2.8)\n",
            "Requirement already satisfied: cachetools<5.0,>=2.0.0 in /usr/local/lib/python3.7/dist-packages (from google-auth<3,>=1.6.3->tensorboard<2.9,>=2.8->tensorflow->inaSpeechSegmenter) (4.2.4)\n",
            "Requirement already satisfied: rsa<5,>=3.1.4 in /usr/local/lib/python3.7/dist-packages (from google-auth<3,>=1.6.3->tensorboard<2.9,>=2.8->tensorflow->inaSpeechSegmenter) (4.8)\n",
            "Requirement already satisfied: requests-oauthlib>=0.7.0 in /usr/local/lib/python3.7/dist-packages (from google-auth-oauthlib<0.5,>=0.4.1->tensorboard<2.9,>=2.8->tensorflow->inaSpeechSegmenter) (1.3.1)\n",
            "Requirement already satisfied: pyasn1<0.5.0,>=0.4.6 in /usr/local/lib/python3.7/dist-packages (from pyasn1-modules>=0.2.1->google-auth<3,>=1.6.3->tensorboard<2.9,>=2.8->tensorflow->inaSpeechSegmenter) (0.4.8)\n",
            "Requirement already satisfied: chardet<4,>=3.0.2 in /usr/local/lib/python3.7/dist-packages (from requests<3,>=2.21.0->tensorboard<2.9,>=2.8->tensorflow->inaSpeechSegmenter) (3.0.4)\n",
            "Requirement already satisfied: idna<3,>=2.5 in /usr/local/lib/python3.7/dist-packages (from requests<3,>=2.21.0->tensorboard<2.9,>=2.8->tensorflow->inaSpeechSegmenter) (2.10)\n",
            "Requirement already satisfied: urllib3!=1.25.0,!=1.25.1,<1.26,>=1.21.1 in /usr/local/lib/python3.7/dist-packages (from requests<3,>=2.21.0->tensorboard<2.9,>=2.8->tensorflow->inaSpeechSegmenter) (1.24.3)\n",
            "Requirement already satisfied: certifi>=2017.4.17 in /usr/local/lib/python3.7/dist-packages (from requests<3,>=2.21.0->tensorboard<2.9,>=2.8->tensorflow->inaSpeechSegmenter) (2022.5.18.1)\n",
            "Requirement already satisfied: oauthlib>=3.0.0 in /usr/local/lib/python3.7/dist-packages (from requests-oauthlib>=0.7.0->google-auth-oauthlib<0.5,>=0.4.1->tensorboard<2.9,>=2.8->tensorflow->inaSpeechSegmenter) (3.2.0)\n",
            "Installing collected packages: simplejson, pyannote.core, tf-estimator-nightly, sortedcollections, serpent, pyannote.parser, munkres, pytextgrid, Pyro4, pyannote.algorithms, inaSpeechSegmenter\n",
            "Successfully installed Pyro4-4.82 inaSpeechSegmenter-0.7.3 munkres-1.1.4 pyannote.algorithms-0.8 pyannote.core-4.4 pyannote.parser-0.8 pytextgrid-0.1.4 serpent-1.40 simplejson-3.17.6 sortedcollections-2.1.0 tf-estimator-nightly-2.8.0.dev2021122109\n",
            "Looking in indexes: https://pypi.org/simple, https://us-python.pkg.dev/colab-wheels/public/simple/\n",
            "Collecting image-similarity-measures\n",
            "  Downloading image_similarity_measures-0.3.5-py3-none-any.whl (9.1 kB)\n",
            "Requirement already satisfied: opencv-python in /usr/local/lib/python3.7/dist-packages (from image-similarity-measures) (4.1.2.30)\n",
            "Requirement already satisfied: numpy in /usr/local/lib/python3.7/dist-packages (from image-similarity-measures) (1.21.6)\n",
            "Collecting rasterio\n",
            "  Downloading rasterio-1.2.10-cp37-cp37m-manylinux1_x86_64.whl (19.3 MB)\n",
            "\u001b[K     |████████████████████████████████| 19.3 MB 1.2 MB/s \n",
            "\u001b[?25hRequirement already satisfied: scikit-image in /usr/local/lib/python3.7/dist-packages (from image-similarity-measures) (0.18.3)\n",
            "Collecting phasepack\n",
            "  Downloading phasepack-1.5.tar.gz (15 kB)\n",
            "Collecting pyfftw\n",
            "  Downloading pyFFTW-0.13.0-cp37-cp37m-manylinux_2_5_x86_64.manylinux1_x86_64.whl (1.7 MB)\n",
            "\u001b[K     |████████████████████████████████| 1.7 MB 45.2 MB/s \n",
            "\u001b[?25hRequirement already satisfied: click>=4.0 in /usr/local/lib/python3.7/dist-packages (from rasterio->image-similarity-measures) (7.1.2)\n",
            "Requirement already satisfied: attrs in /usr/local/lib/python3.7/dist-packages (from rasterio->image-similarity-measures) (21.4.0)\n",
            "Collecting cligj>=0.5\n",
            "  Downloading cligj-0.7.2-py3-none-any.whl (7.1 kB)\n",
            "Requirement already satisfied: certifi in /usr/local/lib/python3.7/dist-packages (from rasterio->image-similarity-measures) (2022.5.18.1)\n",
            "Collecting affine\n",
            "  Downloading affine-2.3.1-py2.py3-none-any.whl (16 kB)\n",
            "Collecting snuggs>=1.4.1\n",
            "  Downloading snuggs-1.4.7-py3-none-any.whl (5.4 kB)\n",
            "Collecting click-plugins\n",
            "  Downloading click_plugins-1.1.1-py2.py3-none-any.whl (7.5 kB)\n",
            "Requirement already satisfied: setuptools in /usr/local/lib/python3.7/dist-packages (from rasterio->image-similarity-measures) (57.4.0)\n",
            "Requirement already satisfied: pyparsing>=2.1.6 in /usr/local/lib/python3.7/dist-packages (from snuggs>=1.4.1->rasterio->image-similarity-measures) (3.0.9)\n",
            "Requirement already satisfied: PyWavelets>=1.1.1 in /usr/local/lib/python3.7/dist-packages (from scikit-image->image-similarity-measures) (1.3.0)\n",
            "Requirement already satisfied: matplotlib!=3.0.0,>=2.0.0 in /usr/local/lib/python3.7/dist-packages (from scikit-image->image-similarity-measures) (3.2.2)\n",
            "Requirement already satisfied: scipy>=1.0.1 in /usr/local/lib/python3.7/dist-packages (from scikit-image->image-similarity-measures) (1.4.1)\n",
            "Requirement already satisfied: pillow!=7.1.0,!=7.1.1,>=4.3.0 in /usr/local/lib/python3.7/dist-packages (from scikit-image->image-similarity-measures) (7.1.2)\n",
            "Requirement already satisfied: networkx>=2.0 in /usr/local/lib/python3.7/dist-packages (from scikit-image->image-similarity-measures) (2.6.3)\n",
            "Requirement already satisfied: tifffile>=2019.7.26 in /usr/local/lib/python3.7/dist-packages (from scikit-image->image-similarity-measures) (2021.11.2)\n",
            "Requirement already satisfied: imageio>=2.3.0 in /usr/local/lib/python3.7/dist-packages (from scikit-image->image-similarity-measures) (2.4.1)\n",
            "Requirement already satisfied: kiwisolver>=1.0.1 in /usr/local/lib/python3.7/dist-packages (from matplotlib!=3.0.0,>=2.0.0->scikit-image->image-similarity-measures) (1.4.2)\n",
            "Requirement already satisfied: cycler>=0.10 in /usr/local/lib/python3.7/dist-packages (from matplotlib!=3.0.0,>=2.0.0->scikit-image->image-similarity-measures) (0.11.0)\n",
            "Requirement already satisfied: python-dateutil>=2.1 in /usr/local/lib/python3.7/dist-packages (from matplotlib!=3.0.0,>=2.0.0->scikit-image->image-similarity-measures) (2.8.2)\n",
            "Requirement already satisfied: typing-extensions in /usr/local/lib/python3.7/dist-packages (from kiwisolver>=1.0.1->matplotlib!=3.0.0,>=2.0.0->scikit-image->image-similarity-measures) (4.2.0)\n",
            "Requirement already satisfied: six>=1.5 in /usr/local/lib/python3.7/dist-packages (from python-dateutil>=2.1->matplotlib!=3.0.0,>=2.0.0->scikit-image->image-similarity-measures) (1.15.0)\n",
            "Building wheels for collected packages: phasepack\n",
            "  Building wheel for phasepack (setup.py) ... \u001b[?25l\u001b[?25hdone\n",
            "  Created wheel for phasepack: filename=phasepack-1.5-py3-none-any.whl size=26984 sha256=a8d517794bd113e6ecb463607d9adeb9e767a9479f294d4c2c464d27eac1a2ca\n",
            "  Stored in directory: /root/.cache/pip/wheels/39/5c/b3/79292d7ac3f088e858805b5515b45cf5a365106397d936caf1\n",
            "Successfully built phasepack\n",
            "Installing collected packages: snuggs, cligj, click-plugins, affine, rasterio, pyfftw, phasepack, image-similarity-measures\n",
            "Successfully installed affine-2.3.1 click-plugins-1.1.1 cligj-0.7.2 image-similarity-measures-0.3.5 phasepack-1.5 pyfftw-0.13.0 rasterio-1.2.10 snuggs-1.4.7\n",
            "Looking in indexes: https://pypi.org/simple, https://us-python.pkg.dev/colab-wheels/public/simple/\n",
            "Collecting SpeechRecognition\n",
            "  Downloading SpeechRecognition-3.8.1-py2.py3-none-any.whl (32.8 MB)\n",
            "\u001b[K     |████████████████████████████████| 32.8 MB 1.3 MB/s \n",
            "\u001b[?25hInstalling collected packages: SpeechRecognition\n",
            "Successfully installed SpeechRecognition-3.8.1\n",
            "Looking in indexes: https://pypi.org/simple, https://us-python.pkg.dev/colab-wheels/public/simple/\n",
            "Collecting googletrans==4.0.0-rc1\n",
            "  Downloading googletrans-4.0.0rc1.tar.gz (20 kB)\n",
            "Collecting httpx==0.13.3\n",
            "  Downloading httpx-0.13.3-py3-none-any.whl (55 kB)\n",
            "\u001b[K     |████████████████████████████████| 55 kB 2.1 MB/s \n",
            "\u001b[?25hCollecting sniffio\n",
            "  Downloading sniffio-1.2.0-py3-none-any.whl (10 kB)\n",
            "Requirement already satisfied: certifi in /usr/local/lib/python3.7/dist-packages (from httpx==0.13.3->googletrans==4.0.0-rc1) (2022.5.18.1)\n",
            "Requirement already satisfied: chardet==3.* in /usr/local/lib/python3.7/dist-packages (from httpx==0.13.3->googletrans==4.0.0-rc1) (3.0.4)\n",
            "Collecting hstspreload\n",
            "  Downloading hstspreload-2021.12.1-py3-none-any.whl (1.3 MB)\n",
            "\u001b[K     |████████████████████████████████| 1.3 MB 10.6 MB/s \n",
            "\u001b[?25hCollecting rfc3986<2,>=1.3\n",
            "  Downloading rfc3986-1.5.0-py2.py3-none-any.whl (31 kB)\n",
            "Collecting httpcore==0.9.*\n",
            "  Downloading httpcore-0.9.1-py3-none-any.whl (42 kB)\n",
            "\u001b[K     |████████████████████████████████| 42 kB 1.2 MB/s \n",
            "\u001b[?25hRequirement already satisfied: idna==2.* in /usr/local/lib/python3.7/dist-packages (from httpx==0.13.3->googletrans==4.0.0-rc1) (2.10)\n",
            "Collecting h2==3.*\n",
            "  Downloading h2-3.2.0-py2.py3-none-any.whl (65 kB)\n",
            "\u001b[K     |████████████████████████████████| 65 kB 3.7 MB/s \n",
            "\u001b[?25hCollecting h11<0.10,>=0.8\n",
            "  Downloading h11-0.9.0-py2.py3-none-any.whl (53 kB)\n",
            "\u001b[K     |████████████████████████████████| 53 kB 2.3 MB/s \n",
            "\u001b[?25hCollecting hyperframe<6,>=5.2.0\n",
            "  Downloading hyperframe-5.2.0-py2.py3-none-any.whl (12 kB)\n",
            "Collecting hpack<4,>=3.0\n",
            "  Downloading hpack-3.0.0-py2.py3-none-any.whl (38 kB)\n",
            "Building wheels for collected packages: googletrans\n",
            "  Building wheel for googletrans (setup.py) ... \u001b[?25l\u001b[?25hdone\n",
            "  Created wheel for googletrans: filename=googletrans-4.0.0rc1-py3-none-any.whl size=17416 sha256=fd68cddcfa4185427fcfc66672e8e45346aad1f3dce3d7eb1e193d22438281d2\n",
            "  Stored in directory: /root/.cache/pip/wheels/43/34/00/4fe71786ea6d12314b29037620c36d857e5d104ac2748bf82a\n",
            "Successfully built googletrans\n",
            "Installing collected packages: hyperframe, hpack, sniffio, h2, h11, rfc3986, httpcore, hstspreload, httpx, googletrans\n",
            "Successfully installed googletrans-4.0.0rc1 h11-0.9.0 h2-3.2.0 hpack-3.0.0 hstspreload-2021.12.1 httpcore-0.9.1 httpx-0.13.3 hyperframe-5.2.0 rfc3986-1.5.0 sniffio-1.2.0\n"
          ]
        }
      ]
    },
    {
      "cell_type": "code",
      "source": [
        "cd /content/Parallel-Speech-Corpus"
      ],
      "metadata": {
        "colab": {
          "base_uri": "https://localhost:8080/"
        },
        "id": "_5YdLcIDBNh3",
        "outputId": "641d8da6-7958-41d4-9ac5-4646c034a56c"
      },
      "execution_count": 7,
      "outputs": [
        {
          "output_type": "stream",
          "name": "stdout",
          "text": [
            "/content/Parallel-Speech-Corpus\n"
          ]
        }
      ]
    },
    {
      "cell_type": "code",
      "source": [
        "from video_matching import retDic, retCorrupt_Consecu_frames, Vid2Wav, rmv_consec_frames, rmv_corrupted_frames\n",
        "vidOrgfilename = \"/content/drive/MyDrive/major/Sample/Pokemon/PokemonEnglish.mp4\"\n",
        "vidDubfilename = \"/content/drive/MyDrive/major/Sample/Pokemon/PokemonHindi.mp4\"\n",
        "# Creating a dictionary {the key is the frame and the value is the postion of the frame in a video}\n",
        "orgDicVid, secOrg = retDic(vidOrgfilename) # return dictionary for the original series\n",
        "dubDicVid, secDub = retDic(vidDubfilename) # return dictionary for the dubbed series\n",
        "LenOrgDic = len(orgDicVid) \n",
        "LenDubDic = len(dubDicVid)"
      ],
      "metadata": {
        "colab": {
          "base_uri": "https://localhost:8080/"
        },
        "id": "t7-mbCnCBwSf",
        "outputId": "541b253d-7d4f-44ba-eb59-c7924fef9f9a"
      },
      "execution_count": 8,
      "outputs": [
        {
          "output_type": "stream",
          "name": "stdout",
          "text": [
            "frame is not ready\n",
            "frame is not ready\n"
          ]
        }
      ]
    },
    {
      "cell_type": "code",
      "source": [
        "corrupted_frames, consecutive_frames_end = retCorrupt_Consecu_frames(orgDicVid,dubDicVid,LenOrgDic,LenDubDic,secOrg,secDub)"
      ],
      "metadata": {
        "id": "8bp-UsZaCRb-"
      },
      "execution_count": 9,
      "outputs": []
    },
    {
      "cell_type": "code",
      "source": [
        "# Converting from video to audio...\n",
        "Vid2Wav(vidOrgfilename)\n",
        "Vid2Wav(vidDubfilename)"
      ],
      "metadata": {
        "id": "i0F_KyGOCqA_"
      },
      "execution_count": 10,
      "outputs": []
    },
    {
      "cell_type": "code",
      "source": [
        "audOrgfilename = \"/content/drive/MyDrive/major/Sample/Pokemon/PokemonEnglish.wav\"\n",
        "audDubfilename = \"/content/drive/MyDrive/major/Sample/Pokemon/PokemonHindi.wav\""
      ],
      "metadata": {
        "id": "X6tsn8Z9Csa5"
      },
      "execution_count": 11,
      "outputs": []
    },
    {
      "cell_type": "code",
      "source": [
        "# Removing the corrupted frames and extra consecutive frames...\n",
        "if corrupted_frames: \n",
        "  rmv_corrupted_frames(corrupted_frames, LenOrgDic, LenDubDic, audOrgfilename,audDubfilename)\n",
        "else:\n",
        "  print(\"No corrupted frames...\")\n",
        "if consecutive_frames_end:\n",
        "  rmv_consec_frames(consecutive_frames_end, LenOrgDic, LenDubDic, audOrgfilename,audDubfilename)\n",
        "else:\n",
        "  print(\"No extra frames...\")"
      ],
      "metadata": {
        "id": "dNlLYIJ2Cwn_"
      },
      "execution_count": 12,
      "outputs": []
    },
    {
      "cell_type": "code",
      "source": [
        "# STEP 2: Voice Activity Detection \n",
        "# creates the csv files\n",
        "!python run_speech_segment.py \"/content/drive/MyDrive/major/Sample/Pokemon/PokemonHindi.wav\" \"/content/drive/MyDrive/major/Sample/Pokemon/PokemonEnglish.wav\""
      ],
      "metadata": {
        "colab": {
          "base_uri": "https://localhost:8080/"
        },
        "id": "MH_WN7_KC0Jg",
        "outputId": "4f8cb0cd-1e62-4772-9444-85347ed89649"
      },
      "execution_count": 13,
      "outputs": [
        {
          "output_type": "stream",
          "name": "stdout",
          "text": [
            "Downloading data from https://github.com/ina-foss/inaSpeechSegmenter/releases/download/models/keras_speech_music_noise_cnn.hdf5\n",
            "3252224/3244808 [==============================] - 0s 0us/step\n",
            "3260416/3244808 [==============================] - 0s 0us/step\n",
            "2022-06-01 12:21:42.938697: E tensorflow/stream_executor/cuda/cuda_driver.cc:271] failed call to cuInit: CUDA_ERROR_NO_DEVICE: no CUDA-capable device is detected\n",
            "Downloading data from https://github.com/ina-foss/inaSpeechSegmenter/releases/download/models/keras_male_female_cnn.hdf5\n",
            "6045696/6040200 [==============================] - 0s 0us/step\n",
            "6053888/6040200 [==============================] - 0s 0us/step\n",
            "/usr/local/lib/python3.7/dist-packages/pyannote/algorithms/utils/viterbi.py:88: FutureWarning: arrays to stack must be passed as a \"sequence\" type such as list or tuple. Support for non-sequence iterables such as generators is deprecated as of NumPy 1.16 and will raise an error in the future.\n",
            "  for e, c in six.moves.zip(emission.T, consecutive)\n",
            "/usr/local/lib/python3.7/dist-packages/pyannote/algorithms/utils/viterbi.py:97: FutureWarning: arrays to stack must be passed as a \"sequence\" type such as list or tuple. Support for non-sequence iterables such as generators is deprecated as of NumPy 1.16 and will raise an error in the future.\n",
            "  for e, c in six.moves.zip(constraint.T, consecutive)\n",
            "/usr/local/lib/python3.7/dist-packages/inaSpeechSegmenter/segmenter.py:61: RuntimeWarning: invalid value encountered in subtract\n",
            "  data = (data - np.mean(data, axis=1).reshape((len(data), 1))) / np.std(data, axis=1).reshape((len(data), 1))\n",
            "/usr/local/lib/python3.7/dist-packages/numpy/core/_methods.py:230: RuntimeWarning: invalid value encountered in subtract\n",
            "  x = asanyarray(arr - arrmean)\n",
            "/usr/local/lib/python3.7/dist-packages/pyannote/algorithms/utils/viterbi.py:88: FutureWarning: arrays to stack must be passed as a \"sequence\" type such as list or tuple. Support for non-sequence iterables such as generators is deprecated as of NumPy 1.16 and will raise an error in the future.\n",
            "  for e, c in six.moves.zip(emission.T, consecutive)\n",
            "/usr/local/lib/python3.7/dist-packages/pyannote/algorithms/utils/viterbi.py:97: FutureWarning: arrays to stack must be passed as a \"sequence\" type such as list or tuple. Support for non-sequence iterables such as generators is deprecated as of NumPy 1.16 and will raise an error in the future.\n",
            "  for e, c in six.moves.zip(constraint.T, consecutive)\n",
            "/usr/local/lib/python3.7/dist-packages/inaSpeechSegmenter/segmenter.py:61: RuntimeWarning: invalid value encountered in subtract\n",
            "  data = (data - np.mean(data, axis=1).reshape((len(data), 1))) / np.std(data, axis=1).reshape((len(data), 1))\n",
            "/usr/local/lib/python3.7/dist-packages/numpy/core/_methods.py:230: RuntimeWarning: invalid value encountered in subtract\n",
            "  x = asanyarray(arr - arrmean)\n"
          ]
        }
      ]
    },
    {
      "cell_type": "code",
      "source": [
        "import string\n",
        "import os\n",
        "import sys \n",
        "\n",
        "def setPaths(newpath, idA, filenameDub,filenameOrg):\n",
        "  HIcsv = open(newpath + filenameDub+\".csv\")\n",
        "  HIcsv = newpath + filenameDub+\".csv\"\n",
        "  os.mkdir(newpath+filenameDub+\"/\")\n",
        "  os.mkdir(newpath+filenameOrg+\"/\")\n",
        "  pathChunksHI = os.mkdir(newpath+filenameDub+\"/Speech/\")\n",
        "  pathChunksHI = newpath+filenameDub+\"/Speech/\"\n",
        "  transPathHI = os.mkdir(newpath+filenameDub+\"/transcript/\")\n",
        "  transPathHI = newpath+filenameDub+\"/transcript/\"\n",
        "  ENcsv = open(newpath + filenameOrg +\".csv\")\n",
        "  ENcsv = newpath + filenameOrg +\".csv\"\n",
        "  pathChunksEN =  os.mkdir(newpath+filenameOrg+\"/Speech/\")\n",
        "  pathChunksEN =  newpath+filenameOrg+\"/Speech/\"\n",
        "  transPathEN = os.mkdir(newpath+filenameOrg+\"/transcript/\")\n",
        "  transPathEN = newpath+filenameOrg+\"/transcript/\"\n",
        "  newtransPathHI = os.mkdir(newpath + \"transOrg/\")\n",
        "  newtransPathHI = newpath + \"transOrg/\"\n",
        "  filenameSim = open(newpath+\"simDub_OrgTrans.txt\", \"w+\")\n",
        "  filenameSim = newpath+\"simDub_OrgTrans.txt\"\n",
        "  csvresult = open(newpath+\"result\"+\".csv\", \"w+\")\n",
        "  csvresult = newpath+\"result\"+\".csv\"\n",
        "  return newpath, HIcsv,pathChunksHI,transPathHI,ENcsv,pathChunksEN,transPathEN,newtransPathHI,filenameSim,csvresult\n",
        "  \n",
        "from chunkBasedLabel import chunkizeSeg\n",
        "def seg_chunk(pathChunks,csvpath,mediawav,idA):\n",
        "    chunkizeSeg(pathChunks, csvpath, mediawav, idA)"
      ],
      "metadata": {
        "id": "Qxzgg4rADByC"
      },
      "execution_count": 14,
      "outputs": []
    },
    {
      "cell_type": "code",
      "source": [
        "idA = \"Pokemon\"\n",
        "\n",
        "newpath = \"/content/drive/MyDrive/major/Sample/Pokemon/\"\n",
        "filenameDub = \"PokemonHindi\"\n",
        "filenameOrg = \"PokemonEnglish\"\n",
        "langOrg = \"en-US\"\n",
        "langDub = \"hi-In\""
      ],
      "metadata": {
        "id": "captJjrGGusl"
      },
      "execution_count": 15,
      "outputs": []
    },
    {
      "cell_type": "code",
      "source": [
        "newpath, HIcsv,pathChunksHI,transPathHI,ENcsv,pathChunksEN,transPathEN,newtransPathHI,filenameSim,csvresult=setPaths(newpath, idA, filenameDub,filenameOrg)"
      ],
      "metadata": {
        "id": "X-EAUdQFHuTy"
      },
      "execution_count": 16,
      "outputs": []
    },
    {
      "cell_type": "code",
      "source": [
        "print(\"Segmenting the wav file based on VAD \")\n",
        "seg_chunk(pathChunksEN, ENcsv,newpath+filenameOrg+\".wav\",idA)\n",
        "seg_chunk(pathChunksHI, HIcsv,newpath+filenameDub+\".wav\",idA)"
      ],
      "metadata": {
        "colab": {
          "base_uri": "https://localhost:8080/"
        },
        "id": "5e5Yar_LH6qK",
        "outputId": "2099436b-c92e-4b62-93ed-254591e77419"
      },
      "execution_count": 17,
      "outputs": [
        {
          "output_type": "stream",
          "name": "stdout",
          "text": [
            "Segmenting the wav file based on VAD \n"
          ]
        }
      ]
    },
    {
      "cell_type": "code",
      "source": [
        "from SST import STTI\n",
        "print(\"Transcribing the Original and the Dubbed audio \")\n",
        "STTI(HIcsv, transPathHI, pathChunksHI, langDub) \n",
        "STTI(ENcsv, transPathEN, pathChunksEN, langOrg)"
      ],
      "metadata": {
        "colab": {
          "base_uri": "https://localhost:8080/"
        },
        "id": "cyFmTz9SH-O9",
        "outputId": "12a5d0c3-e007-44ab-f3ac-d20d4f83984a"
      },
      "execution_count": 18,
      "outputs": [
        {
          "output_type": "stream",
          "name": "stdout",
          "text": [
            "Transcribing the Original and the Dubbed audio \n"
          ]
        }
      ]
    },
    {
      "cell_type": "code",
      "source": [
        "from google_trans import trans2Trgt\n",
        "try:\n",
        "\ttrans2Trgt(transPathEN,newtransPathHI,\"hi\") \n",
        "except:\n",
        "\tprint(\"failed to translate\")"
      ],
      "metadata": {
        "id": "0sBa5w6BI8lG"
      },
      "execution_count": 19,
      "outputs": []
    },
    {
      "cell_type": "code",
      "source": [
        "print(\"Similarity between Original_translated & Dubbed \")"
      ],
      "metadata": {
        "colab": {
          "base_uri": "https://localhost:8080/"
        },
        "id": "26dPjWg5L2DS",
        "outputId": "56c87823-b823-47f8-8fc3-ba3825b9040b"
      },
      "execution_count": 20,
      "outputs": [
        {
          "output_type": "stream",
          "name": "stdout",
          "text": [
            "Similarity between Original_translated & Dubbed \n"
          ]
        }
      ]
    },
    {
      "cell_type": "code",
      "source": [
        "import glob \n",
        "import collections\n",
        "import os \n",
        "\n",
        "\n",
        "\n",
        "def sim_dub_trans_org(chunksOrg_Trans, chunksDub, sim_matrix_txt):\n",
        "    trans_d = {}\n",
        "    for i in glob.glob(chunksOrg_Trans+ \"*.*\", recursive=True):\n",
        "        base=os.path.basename(i)\n",
        "        kma, ex = os.path.splitext(base)\n",
        "        result = ''.join([s for s in kma if s.isdigit()])\n",
        "        file = open(i, mode='r', encoding = \"utf-8\")\n",
        "        text = file.read()\n",
        "        trans_d[int(result)] = text\n",
        "\n",
        "    od_no = collections.OrderedDict(sorted(trans_d.items()))\n",
        "\n",
        "\n",
        "    dub_d = {}\n",
        "    for i in glob.glob(chunksDub+ \"*.*\", recursive=True):\n",
        "        base=os.path.basename(i)\n",
        "        kma, ex = os.path.splitext(base)\n",
        "        result = ''.join([s for s in kma if s.isdigit()])\n",
        "        file = open(i, mode='r', encoding = \"utf-8\")\n",
        "        text = file.read()\n",
        "        dub_d[int(result)] = text\n",
        "    print(\"now\")\n",
        "    od = collections.OrderedDict(sorted(dub_d.items()))\n",
        "    r = len(trans_d)\n",
        "    c = len(dub_d)\n",
        "    print(r)\n",
        "    print(c)\n",
        "    Matrix = [[-1 for x in range(c)] for y in range(r)] \n",
        "    w = -1\n",
        "    h = 0\n",
        "    \n",
        "    try:\n",
        "        for i in od_no:\n",
        "            w = w + 1\n",
        "            h=0 \n",
        "            for j in od:\n",
        "                doc1 = nlp_hi(od_no[i])\n",
        "                doc2 = nlp_hi(od[j])\n",
        "                Matrix[w][h] = doc1.similarity(doc2)\n",
        "                h = h + 1\n",
        "    except:\n",
        "        print(\"exception\")\n",
        "        print(w)\n",
        "        print(\"\\n\")\n",
        "        print(h)\n",
        "    \n",
        "    file = open(sim_matrix_txt, mode = 'w', encoding = \"utf-8\")\n",
        "\n",
        "    for r in Matrix:\n",
        "        #i = i + 1 \n",
        "        for c in r:\n",
        "            file.write(str(c)+\" \")\n",
        "        file.write(\"\\n\")"
      ],
      "metadata": {
        "id": "LgI4e_gcMv-0"
      },
      "execution_count": 21,
      "outputs": []
    },
    {
      "cell_type": "code",
      "source": [
        "sim_dub_trans_org(newtransPathHI,transPathHI,filenameSim )"
      ],
      "metadata": {
        "colab": {
          "base_uri": "https://localhost:8080/"
        },
        "id": "P5agFa2hN_1L",
        "outputId": "1760b82e-e669-4602-b906-e5f05133b92f"
      },
      "execution_count": 22,
      "outputs": [
        {
          "output_type": "stream",
          "name": "stdout",
          "text": [
            "now\n",
            "82\n",
            "102\n"
          ]
        }
      ]
    },
    {
      "cell_type": "code",
      "source": [
        "from automated_match import matchSegments\n",
        "print(\"Matching the segments\")\n",
        "matchSegments(ENcsv, HIcsv, csvresult, filenameSim) "
      ],
      "metadata": {
        "colab": {
          "base_uri": "https://localhost:8080/"
        },
        "id": "wAaJPqQKOG_b",
        "outputId": "c3e8ff1d-c93c-4d8c-e74e-80c0c77f6920"
      },
      "execution_count": 23,
      "outputs": [
        {
          "output_type": "stream",
          "name": "stdout",
          "text": [
            "Matching the segments\n",
            "---------------------------------------------------\n",
            "passeD\n",
            "passeD\n",
            "passeD\n",
            "passeD\n",
            "passeD\n",
            "passeD\n",
            "passeD\n",
            "passeD\n",
            "passeD\n",
            "---------------------------------------------------\n"
          ]
        }
      ]
    },
    {
      "cell_type": "code",
      "source": [
        "import pandas as pd \n",
        "df=pd.read_csv(\"/content/drive/MyDrive/major/Sample/Pokemon/result.csv\")\n",
        "for index, row in df.iterrows():\n",
        "    print(row)"
      ],
      "metadata": {
        "colab": {
          "base_uri": "https://localhost:8080/"
        },
        "id": "BFX9PeEyObLy",
        "outputId": "eb1fe875-d3b9-4cdb-de53-8314b1f848a8"
      },
      "execution_count": 24,
      "outputs": [
        {
          "output_type": "stream",
          "name": "stdout",
          "text": [
            "0                             NaN\n",
            "Dub                            12\n",
            "startDub                    142.4\n",
            "stopDub                    144.18\n",
            "DurationDub                  1.78\n",
            "labelDub                   female\n",
            "Org                            23\n",
            "startOrg       139.42000000000002\n",
            "stopOrg                    140.34\n",
            "DurationOrg    0.9199999999999876\n",
            "labelOrg                   female\n",
            "Similarity      0.534867114988109\n",
            "Name: 0, dtype: object\n",
            "0                             NaN\n",
            "Dub                            40\n",
            "startDub                   264.62\n",
            "stopDub                    268.42\n",
            "DurationDub                   3.8\n",
            "labelDub                   female\n",
            "Org                            50\n",
            "startOrg                   261.62\n",
            "stopOrg                    264.94\n",
            "DurationOrg     3.319999999999993\n",
            "labelOrg                   female\n",
            "Similarity     0.7614408420992737\n",
            "Name: 1, dtype: object\n",
            "0                             NaN\n",
            "Dub                            43\n",
            "startDub                   274.24\n",
            "stopDub                    275.14\n",
            "DurationDub                   0.9\n",
            "labelDub                   female\n",
            "Org                            54\n",
            "startOrg                   271.58\n",
            "stopOrg                    273.68\n",
            "DurationOrg    2.1000000000000227\n",
            "labelOrg                   female\n",
            "Similarity     0.6084633922431387\n",
            "Name: 2, dtype: object\n",
            "0                             NaN\n",
            "Dub                            46\n",
            "startDub                   282.92\n",
            "stopDub                    286.88\n",
            "DurationDub                  3.96\n",
            "labelDub                   female\n",
            "Org                            60\n",
            "startOrg                   282.82\n",
            "stopOrg                     284.2\n",
            "DurationOrg    1.3799999999999957\n",
            "labelOrg                   female\n",
            "Similarity     0.7328870388348737\n",
            "Name: 3, dtype: object\n",
            "0                             NaN\n",
            "Dub                            48\n",
            "startDub                   290.88\n",
            "stopDub                    295.68\n",
            "DurationDub                   4.8\n",
            "labelDub                   female\n",
            "Org                            64\n",
            "startOrg                   293.94\n",
            "stopOrg                    296.96\n",
            "DurationOrg     3.019999999999982\n",
            "labelOrg                   female\n",
            "Similarity     0.5216268597475224\n",
            "Name: 4, dtype: object\n",
            "0                             NaN\n",
            "Dub                            49\n",
            "startDub                   295.68\n",
            "stopDub                     299.0\n",
            "DurationDub                  3.32\n",
            "labelDub                     male\n",
            "Org                            66\n",
            "startOrg       297.40000000000003\n",
            "stopOrg                    299.94\n",
            "DurationOrg     2.539999999999964\n",
            "labelOrg                     male\n",
            "Similarity      0.519772062181435\n",
            "Name: 5, dtype: object\n",
            "0                             NaN\n",
            "Dub                            60\n",
            "startDub                    339.3\n",
            "stopDub                    345.76\n",
            "DurationDub                  6.46\n",
            "labelDub                     male\n",
            "Org                            79\n",
            "startOrg                   338.14\n",
            "stopOrg                    346.18\n",
            "DurationOrg      8.04000000000002\n",
            "labelOrg                     male\n",
            "Similarity     0.8511777128726288\n",
            "Name: 6, dtype: object\n",
            "0                             NaN\n",
            "Dub                            91\n",
            "startDub                   454.18\n",
            "stopDub                    462.04\n",
            "DurationDub                  7.86\n",
            "labelDub                   female\n",
            "Org                            92\n",
            "startOrg                   456.18\n",
            "stopOrg                    461.94\n",
            "DurationOrg     5.759999999999991\n",
            "labelOrg                   female\n",
            "Similarity     0.8694469259515828\n",
            "Name: 7, dtype: object\n",
            "0                             NaN\n",
            "Dub                            93\n",
            "startDub                   463.74\n",
            "stopDub                    467.96\n",
            "DurationDub                  4.22\n",
            "labelDub                    music\n",
            "Org                            93\n",
            "startOrg                   461.94\n",
            "stopOrg                    464.12\n",
            "DurationOrg     2.180000000000007\n",
            "labelOrg                    music\n",
            "Similarity     0.4672383862925434\n",
            "Name: 8, dtype: object\n",
            "0                            NaN\n",
            "Dub                          101\n",
            "startDub                  531.08\n",
            "stopDub                    535.4\n",
            "DurationDub                 4.32\n",
            "labelDub                  female\n",
            "Org                          103\n",
            "startOrg                  530.46\n",
            "stopOrg                   537.42\n",
            "DurationOrg    6.959999999999923\n",
            "labelOrg                  female\n",
            "Similarity     0.725616480918943\n",
            "Name: 9, dtype: object\n",
            "0                             NaN\n",
            "Dub                           128\n",
            "startDub                   651.22\n",
            "stopDub                     655.2\n",
            "DurationDub                  3.98\n",
            "labelDub                   female\n",
            "Org                           136\n",
            "startOrg                   649.46\n",
            "stopOrg                    654.62\n",
            "DurationOrg     5.159999999999968\n",
            "labelOrg                   female\n",
            "Similarity     0.6794902156780596\n",
            "Name: 10, dtype: object\n",
            "0                            NaN\n",
            "Dub                          178\n",
            "startDub                  813.66\n",
            "stopDub                    815.3\n",
            "DurationDub                 1.64\n",
            "labelDub                  female\n",
            "Org                          153\n",
            "startOrg       815.9200000000001\n",
            "stopOrg        817.1800000000001\n",
            "DurationOrg    1.259999999999991\n",
            "labelOrg                  female\n",
            "Similarity     0.719002019415417\n",
            "Name: 11, dtype: object\n",
            "0                                                NaN\n",
            "Dub                                               41\n",
            "startDub                                      268.42\n",
            "stopDub                                       273.62\n",
            "DurationDub                                      5.2\n",
            "labelDub                                        male\n",
            "Org                                            52;54\n",
            "startOrg                               268.56;271.58\n",
            "stopOrg                                 270.8;273.68\n",
            "DurationOrg                                      2;2\n",
            "labelOrg                          ['male', 'female']\n",
            "Similarity     0.8228847628063503;0.6419437652584216\n",
            "Name: 12, dtype: object\n",
            "0                                                NaN\n",
            "Dub                                               91\n",
            "startDub                                      454.18\n",
            "stopDub                                       462.04\n",
            "DurationDub                                     7.86\n",
            "labelDub                                      female\n",
            "Org                                            92;93\n",
            "startOrg                               456.18;461.94\n",
            "stopOrg                                461.94;464.12\n",
            "DurationOrg                                      5;2\n",
            "labelOrg                         ['female', 'music']\n",
            "Similarity     0.8694469259515828;0.7400294596682859\n",
            "Name: 13, dtype: object\n"
          ]
        }
      ]
    },
    {
      "cell_type": "code",
      "source": [
        ""
      ],
      "metadata": {
        "id": "WDborcDROxWi"
      },
      "execution_count": 24,
      "outputs": []
    }
  ]
}